{
  "nbformat": 4,
  "nbformat_minor": 0,
  "metadata": {
    "colab": {
      "name": "First_Hands_On_PyTorch.ipynb",
      "provenance": [],
      "collapsed_sections": [],
      "authorship_tag": "ABX9TyP11BooEKq/eebTQ3dV9Mql",
      "include_colab_link": true
    },
    "kernelspec": {
      "name": "python3",
      "display_name": "Python 3"
    },
    "language_info": {
      "name": "python"
    },
    "accelerator": "GPU"
  },
  "cells": [
    {
      "cell_type": "markdown",
      "metadata": {
        "id": "view-in-github",
        "colab_type": "text"
      },
      "source": [
        "<a href=\"https://colab.research.google.com/github/Himagination/PyTorch/blob/main/First_Hands_On_PyTorch.ipynb\" target=\"_parent\"><img src=\"https://colab.research.google.com/assets/colab-badge.svg\" alt=\"Open In Colab\"/></a>"
      ]
    },
    {
      "cell_type": "markdown",
      "metadata": {
        "id": "cThOEgUxMzkq"
      },
      "source": [
        "# PyTorch Tensor as Numpy n-dimensional array."
      ]
    },
    {
      "cell_type": "code",
      "metadata": {
        "id": "0gbRM0XhDxni",
        "colab": {
          "base_uri": "https://localhost:8080/"
        },
        "outputId": "4d31055d-13f5-4f50-ea8a-1b633d9d79b1"
      },
      "source": [
        "import numpy as np\n",
        "\n",
        "v0 = np.array(1.3)\n",
        "v1 = np.array([1., 2., 3,])\n",
        "v2 = np.array([[1., 2., 3.], \n",
        "               4., 5., 6.])\n",
        "print(f\"{v0}, {v1}, {v2}\")"
      ],
      "execution_count": 1,
      "outputs": [
        {
          "output_type": "stream",
          "name": "stdout",
          "text": [
            "1.3, [1. 2. 3.], [list([1.0, 2.0, 3.0]) 4.0 5.0 6.0]\n"
          ]
        },
        {
          "output_type": "stream",
          "name": "stderr",
          "text": [
            "/usr/local/lib/python3.7/dist-packages/ipykernel_launcher.py:6: VisibleDeprecationWarning: Creating an ndarray from ragged nested sequences (which is a list-or-tuple of lists-or-tuples-or ndarrays with different lengths or shapes) is deprecated. If you meant to do this, you must specify 'dtype=object' when creating the ndarray\n",
            "  \n"
          ]
        }
      ]
    },
    {
      "cell_type": "markdown",
      "metadata": {
        "id": "LTDxkdZCNlr3"
      },
      "source": [
        "## Create a Tensor from Numpy"
      ]
    },
    {
      "cell_type": "code",
      "metadata": {
        "id": "IPFZXA5wNfEZ"
      },
      "source": [
        "numpy_array = np.array([1, 2, 3])"
      ],
      "execution_count": 2,
      "outputs": []
    },
    {
      "cell_type": "markdown",
      "metadata": {
        "id": "zWgOyIgrRICQ"
      },
      "source": [
        "### Notes on torch.Tensor\n",
        "-  torch.Tensor is a main class of Tensor. All other tensors are instance of Tensor class and inherit from this main class.\n",
        "-  Constructor - is same as torch.FloatTensor hence by default it produces tensor of type float32. This can be a disadvantage as float32 takes more size of bit."
      ]
    },
    {
      "cell_type": "code",
      "metadata": {
        "colab": {
          "base_uri": "https://localhost:8080/"
        },
        "id": "OwkfVDj4QD49",
        "outputId": "0442e748-8de5-46bc-8436-b6c7d0788333"
      },
      "source": [
        "import torch\n",
        "t1 = torch.Tensor(numpy_array)\n",
        "t1"
      ],
      "execution_count": 3,
      "outputs": [
        {
          "output_type": "execute_result",
          "data": {
            "text/plain": [
              "tensor([1., 2., 3.])"
            ]
          },
          "metadata": {},
          "execution_count": 3
        }
      ]
    },
    {
      "cell_type": "markdown",
      "metadata": {
        "id": "hlAmNa6mR5cb"
      },
      "source": [
        "### Notes on torch.tensor\n",
        "-  It is a Factory function.\n",
        "-  It produces tensor of same data type as input.\n",
        "-  It does not share underlying memory with numpy i.e t2 and numpy_array in above case will have two different memory allocation.\n",
        "-  It always copies the data i.e modifying the value of t2 won't affect the value of numpy_array.\n",
        "-  Syntax: torch.tensor(data, *, dtype=None, device=None, requires_grad=False, pin_memory=False)\n",
        "- Recommended to use."
      ]
    },
    {
      "cell_type": "code",
      "metadata": {
        "colab": {
          "base_uri": "https://localhost:8080/"
        },
        "id": "1e9_FESDRy5r",
        "outputId": "8af0128e-ced0-4e5c-dad0-672c9000cb19"
      },
      "source": [
        "t2 = torch.tensor(numpy_array)\n",
        "t2"
      ],
      "execution_count": 4,
      "outputs": [
        {
          "output_type": "execute_result",
          "data": {
            "text/plain": [
              "tensor([1, 2, 3])"
            ]
          },
          "metadata": {},
          "execution_count": 4
        }
      ]
    },
    {
      "cell_type": "markdown",
      "metadata": {
        "id": "R71rrTa5TKzH"
      },
      "source": [
        "### Notes on torch.as_tensor()\n",
        "-  Factory Function\n",
        "-  Produces tensor of same data type.\n",
        "-  Shares the underlying memory with numpy.\n",
        "-  Can accept any array like Python Data Structure i.e not limited to Numpy.\n",
        "-  Syntax: torch.as_tensor(data, dtype=None, device=None)\n",
        "-  We have to manually call requires_grad() function on the final tensor. Does not support as argument by default.\n",
        "-  Recommended to use.\n",
        "-  numpy.array objects are allocated on CPU, as_tensor() function must copy the data from CPU to GPU when a GPU is being used.\n",
        "-  The memory sharing of as_tensor() doesn't work with built-in Python Data Structure like list.\n",
        "-  The as_tensor() performance improvement will be greater when there are a lot of back and forthoperations between numpy.array objects and tensor objects. "
      ]
    },
    {
      "cell_type": "code",
      "metadata": {
        "colab": {
          "base_uri": "https://localhost:8080/"
        },
        "id": "DKD0pdQCR3dE",
        "outputId": "894d6620-64e4-42d8-cadf-a458361764de"
      },
      "source": [
        "t3 = torch.as_tensor(numpy_array)\n",
        "t3"
      ],
      "execution_count": 5,
      "outputs": [
        {
          "output_type": "execute_result",
          "data": {
            "text/plain": [
              "tensor([1, 2, 3])"
            ]
          },
          "metadata": {},
          "execution_count": 5
        }
      ]
    },
    {
      "cell_type": "markdown",
      "metadata": {
        "id": "17gFODGBU3uk"
      },
      "source": [
        "### Notes on torch.from_numpy()\n",
        "-  Factory function\n",
        "-  Produces a new tensor with the same data type\n",
        "-  Share the underlying memory with numpy.\n",
        "-  CAN ACCEPT ONLY NUMPY ARRAYS.\n",
        "-  Syntax: torch.from_numpy(ndarray)"
      ]
    },
    {
      "cell_type": "code",
      "metadata": {
        "colab": {
          "base_uri": "https://localhost:8080/"
        },
        "id": "LS1hQRpvTJh6",
        "outputId": "2da024f8-c18a-4f90-9ab4-297780768ef9"
      },
      "source": [
        "t4 = torch.from_numpy(numpy_array)\n",
        "t4"
      ],
      "execution_count": 6,
      "outputs": [
        {
          "output_type": "execute_result",
          "data": {
            "text/plain": [
              "tensor([1, 2, 3])"
            ]
          },
          "metadata": {},
          "execution_count": 6
        }
      ]
    },
    {
      "cell_type": "markdown",
      "metadata": {
        "id": "74yMKFSMaHfW"
      },
      "source": [
        "### Changing values"
      ]
    },
    {
      "cell_type": "code",
      "metadata": {
        "colab": {
          "base_uri": "https://localhost:8080/"
        },
        "id": "FLuoNn2BVbu1",
        "outputId": "cc9f27b7-949d-49ad-d316-15d658f5061c"
      },
      "source": [
        "numpy_array *= 4\n",
        "numpy_array"
      ],
      "execution_count": 7,
      "outputs": [
        {
          "output_type": "execute_result",
          "data": {
            "text/plain": [
              "array([ 4,  8, 12])"
            ]
          },
          "metadata": {},
          "execution_count": 7
        }
      ]
    },
    {
      "cell_type": "code",
      "metadata": {
        "colab": {
          "base_uri": "https://localhost:8080/"
        },
        "id": "kvsfxlxLaX8l",
        "outputId": "6aa090d9-1324-4752-f802-c53b525e61f0"
      },
      "source": [
        "t1, t2, t3, t4"
      ],
      "execution_count": 8,
      "outputs": [
        {
          "output_type": "execute_result",
          "data": {
            "text/plain": [
              "(tensor([1., 2., 3.]),\n",
              " tensor([1, 2, 3]),\n",
              " tensor([ 4,  8, 12]),\n",
              " tensor([ 4,  8, 12]))"
            ]
          },
          "metadata": {},
          "execution_count": 8
        }
      ]
    },
    {
      "cell_type": "code",
      "metadata": {
        "colab": {
          "base_uri": "https://localhost:8080/"
        },
        "id": "lw6EI2iMaaBt",
        "outputId": "2571e5b5-c468-4fe4-f709-45a1eabc25fb"
      },
      "source": [
        "t1 *= 2\n",
        "numpy_array, t1, t2, t3, t4"
      ],
      "execution_count": 9,
      "outputs": [
        {
          "output_type": "execute_result",
          "data": {
            "text/plain": [
              "(array([ 4,  8, 12]),\n",
              " tensor([2., 4., 6.]),\n",
              " tensor([1, 2, 3]),\n",
              " tensor([ 4,  8, 12]),\n",
              " tensor([ 4,  8, 12]))"
            ]
          },
          "metadata": {},
          "execution_count": 9
        }
      ]
    },
    {
      "cell_type": "code",
      "metadata": {
        "colab": {
          "base_uri": "https://localhost:8080/"
        },
        "id": "DPHLfr9Wakc_",
        "outputId": "e434961a-f44c-4098-c61b-efd0c9de7113"
      },
      "source": [
        "t2 *= 2\n",
        "numpy_array, t1, t2, t3, t4"
      ],
      "execution_count": 10,
      "outputs": [
        {
          "output_type": "execute_result",
          "data": {
            "text/plain": [
              "(array([ 4,  8, 12]),\n",
              " tensor([2., 4., 6.]),\n",
              " tensor([2, 4, 6]),\n",
              " tensor([ 4,  8, 12]),\n",
              " tensor([ 4,  8, 12]))"
            ]
          },
          "metadata": {},
          "execution_count": 10
        }
      ]
    },
    {
      "cell_type": "code",
      "metadata": {
        "colab": {
          "base_uri": "https://localhost:8080/"
        },
        "id": "_nTMPCp1arJJ",
        "outputId": "19ac6331-b4a9-4a79-ce1b-54b0b1a3040e"
      },
      "source": [
        "t3 *= 2\n",
        "numpy_array, t1, t2, t3, t4"
      ],
      "execution_count": 11,
      "outputs": [
        {
          "output_type": "execute_result",
          "data": {
            "text/plain": [
              "(array([ 8, 16, 24]),\n",
              " tensor([2., 4., 6.]),\n",
              " tensor([2, 4, 6]),\n",
              " tensor([ 8, 16, 24]),\n",
              " tensor([ 8, 16, 24]))"
            ]
          },
          "metadata": {},
          "execution_count": 11
        }
      ]
    },
    {
      "cell_type": "code",
      "metadata": {
        "colab": {
          "base_uri": "https://localhost:8080/"
        },
        "id": "Yy2YC7PCasol",
        "outputId": "ac7481c1-1a42-4c84-d06d-aed453ad967c"
      },
      "source": [
        "t4 *= 2\n",
        "numpy_array, t1, t2, t3, t4"
      ],
      "execution_count": 12,
      "outputs": [
        {
          "output_type": "execute_result",
          "data": {
            "text/plain": [
              "(array([16, 32, 48]),\n",
              " tensor([2., 4., 6.]),\n",
              " tensor([2, 4, 6]),\n",
              " tensor([16, 32, 48]),\n",
              " tensor([16, 32, 48]))"
            ]
          },
          "metadata": {},
          "execution_count": 12
        }
      ]
    },
    {
      "cell_type": "code",
      "metadata": {
        "colab": {
          "base_uri": "https://localhost:8080/"
        },
        "id": "-2MI5TdZat_e",
        "outputId": "e0f88c9c-a046-4480-b455-d0a4a3ec6269"
      },
      "source": [
        "t5 = t4.cuda()\n",
        "t5.device, t4.device"
      ],
      "execution_count": 13,
      "outputs": [
        {
          "output_type": "execute_result",
          "data": {
            "text/plain": [
              "(device(type='cuda', index=0), device(type='cpu'))"
            ]
          },
          "metadata": {},
          "execution_count": 13
        }
      ]
    },
    {
      "cell_type": "code",
      "metadata": {
        "colab": {
          "base_uri": "https://localhost:8080/",
          "height": 183
        },
        "id": "K6ZXd7vdbEkn",
        "outputId": "1e11146c-343f-4fa1-985b-67d78dbd3c51"
      },
      "source": [
        "t6 = t5 + t4\n",
        "t6"
      ],
      "execution_count": 14,
      "outputs": [
        {
          "output_type": "error",
          "ename": "RuntimeError",
          "evalue": "ignored",
          "traceback": [
            "\u001b[0;31m---------------------------------------------------------------------------\u001b[0m",
            "\u001b[0;31mRuntimeError\u001b[0m                              Traceback (most recent call last)",
            "\u001b[0;32m<ipython-input-14-fd22536110e0>\u001b[0m in \u001b[0;36m<module>\u001b[0;34m()\u001b[0m\n\u001b[0;32m----> 1\u001b[0;31m \u001b[0mt6\u001b[0m \u001b[0;34m=\u001b[0m \u001b[0mt5\u001b[0m \u001b[0;34m+\u001b[0m \u001b[0mt4\u001b[0m\u001b[0;34m\u001b[0m\u001b[0;34m\u001b[0m\u001b[0m\n\u001b[0m\u001b[1;32m      2\u001b[0m \u001b[0mt6\u001b[0m\u001b[0;34m\u001b[0m\u001b[0;34m\u001b[0m\u001b[0m\n",
            "\u001b[0;31mRuntimeError\u001b[0m: Expected all tensors to be on the same device, but found at least two devices, cuda:0 and cpu!"
          ]
        }
      ]
    },
    {
      "cell_type": "markdown",
      "metadata": {
        "id": "bteF0inJbJ0Y"
      },
      "source": [
        "# Autograd\n",
        "- Automatic differentiation for all operations on Tensors\n",
        "- The backward graph is automatically defined by the forward graph."
      ]
    },
    {
      "cell_type": "code",
      "metadata": {
        "colab": {
          "base_uri": "https://localhost:8080/"
        },
        "id": "0YZUpt8kbGxS",
        "outputId": "ff0d3f37-a802-4dae-82f2-210bde5f74b2"
      },
      "source": [
        "x1 = torch.tensor(2, requires_grad=True, dtype=torch.float16)\n",
        "x2 = torch.tensor(3, requires_grad=True, dtype=torch.float16)\n",
        "x3 = torch.tensor(4, requires_grad=True, dtype=torch.float16)\n",
        "x4 = torch.tensor(5, requires_grad=True, dtype=torch.float16)\n",
        "\n",
        "x1, x2, x3, x4"
      ],
      "execution_count": 15,
      "outputs": [
        {
          "output_type": "execute_result",
          "data": {
            "text/plain": [
              "(tensor(2., dtype=torch.float16, requires_grad=True),\n",
              " tensor(3., dtype=torch.float16, requires_grad=True),\n",
              " tensor(4., dtype=torch.float16, requires_grad=True),\n",
              " tensor(5., dtype=torch.float16, requires_grad=True))"
            ]
          },
          "metadata": {},
          "execution_count": 15
        }
      ]
    },
    {
      "cell_type": "code",
      "metadata": {
        "colab": {
          "base_uri": "https://localhost:8080/"
        },
        "id": "nm6ch969bvgt",
        "outputId": "1753f54d-68f8-40be-b52f-3da103f47fa5"
      },
      "source": [
        "from torch.autograd import grad\n",
        "\n",
        "z1 = x1 * x2\n",
        "z2 = x3 * x4\n",
        "f = z1 + z2\n",
        "# f = x1 * x2 + x3 * x4\n",
        "\n",
        "df_dx = grad(outputs=f, inputs=[x1, x2, x3, x4])\n",
        "print(f'gradient of x1 = {df_dx[0]}')\n",
        "print(f'gradient of x2 = {df_dx[1]}')\n",
        "print(f'gradient of x3 = {df_dx[2]}')\n",
        "print(f'gradient of x4 = {df_dx[3]}')"
      ],
      "execution_count": 17,
      "outputs": [
        {
          "output_type": "stream",
          "name": "stdout",
          "text": [
            "gradient of x1 = 3.0\n",
            "gradient of x2 = 2.0\n",
            "gradient of x3 = 5.0\n",
            "gradient of x4 = 4.0\n"
          ]
        }
      ]
    },
    {
      "cell_type": "code",
      "metadata": {
        "colab": {
          "base_uri": "https://localhost:8080/"
        },
        "id": "Jxk9HqvPeRcq",
        "outputId": "a1dba91f-e0c3-495b-9c7d-f04498f63992"
      },
      "source": [
        "y1 = torch.tensor(2, requires_grad=True, dtype=torch.float16)\n",
        "y2 = torch.tensor(3, requires_grad=True, dtype=torch.float16)\n",
        "y3 = torch.tensor(4, requires_grad=True, dtype=torch.float16)\n",
        "y4 = torch.tensor(5, requires_grad=True, dtype=torch.float16)\n",
        "\n",
        "z1 = y1 * y2\n",
        "z2 = y3 * y4\n",
        "f = z1 + z2\n",
        "f.backward()\n",
        "print(f'gradient of x1 = {y1.grad}')\n",
        "print(f'gradient of x2 = {y2.grad}')\n",
        "print(f'gradient of x3 = {y3.grad}')\n",
        "print(f'gradient of x4 = {y4.grad}')"
      ],
      "execution_count": 20,
      "outputs": [
        {
          "output_type": "stream",
          "name": "stdout",
          "text": [
            "gradient of x1 = 3.0\n",
            "gradient of x2 = 2.0\n",
            "gradient of x3 = 5.0\n",
            "gradient of x4 = 4.0\n"
          ]
        }
      ]
    },
    {
      "cell_type": "markdown",
      "metadata": {
        "id": "0uN35L0Lf4lu"
      },
      "source": [
        "# Squeezing the Tensor\n",
        "- Squeeze: Removes all the dimensions that have length of 1\n",
        "- Unsqueeze: Adds a dimension that has a length of 1\n",
        "\n",
        "**Why is it required?**\n",
        "\n",
        "*Neural Networks are always trained in a batch of samples. This is troubling because when we want to test 1 image, we do not have an array, we only have 1 image. Then we unsqueeze to fake a batch.*\n"
      ]
    },
    {
      "cell_type": "code",
      "metadata": {
        "colab": {
          "base_uri": "https://localhost:8080/"
        },
        "id": "gHJbzl64exVv",
        "outputId": "70213798-d192-4ca4-a9a6-5c1904ac12a8"
      },
      "source": [
        "# Checking shape, size, number of elements for Tensor\n",
        "t = torch.tensor([\n",
        "                  [0, 0, 0, 0], \n",
        "                  [1, 2, 3, 4], \n",
        "                  [2, 2, 2, 2]\n",
        "], dtype=torch.float32)\n",
        "t.shape, t.size(), t.numel()"
      ],
      "execution_count": 21,
      "outputs": [
        {
          "output_type": "execute_result",
          "data": {
            "text/plain": [
              "(torch.Size([3, 4]), torch.Size([3, 4]), 12)"
            ]
          },
          "metadata": {},
          "execution_count": 21
        }
      ]
    },
    {
      "cell_type": "code",
      "metadata": {
        "colab": {
          "base_uri": "https://localhost:8080/"
        },
        "id": "DlcDXXE_ll_x",
        "outputId": "18de3d49-a785-48f2-fb02-7a02d992a528"
      },
      "source": [
        "print(t.reshape(1, 12))\n",
        "print(t.reshape(1, 12).shape)"
      ],
      "execution_count": 22,
      "outputs": [
        {
          "output_type": "stream",
          "name": "stdout",
          "text": [
            "tensor([[0., 0., 0., 0., 1., 2., 3., 4., 2., 2., 2., 2.]])\n",
            "torch.Size([1, 12])\n"
          ]
        }
      ]
    },
    {
      "cell_type": "code",
      "metadata": {
        "colab": {
          "base_uri": "https://localhost:8080/"
        },
        "id": "qCt7fEzJl2ts",
        "outputId": "1f590b30-5f05-4450-c815-51df4a52dc96"
      },
      "source": [
        "print(t.reshape(1, 12).squeeze())\n",
        "print(t.reshape(1, 12).squeeze().shape)"
      ],
      "execution_count": 23,
      "outputs": [
        {
          "output_type": "stream",
          "name": "stdout",
          "text": [
            "tensor([0., 0., 0., 0., 1., 2., 3., 4., 2., 2., 2., 2.])\n",
            "torch.Size([12])\n"
          ]
        }
      ]
    },
    {
      "cell_type": "code",
      "metadata": {
        "colab": {
          "base_uri": "https://localhost:8080/"
        },
        "id": "aw_ya2xdmAL9",
        "outputId": "d75b93f5-df10-4816-8cc2-9480e556a21b"
      },
      "source": [
        "print(t.reshape(1, 12).squeeze().unsqueeze(0))\n",
        "print(t.reshape(1, 12).squeeze().unsqueeze(0).shape)"
      ],
      "execution_count": 24,
      "outputs": [
        {
          "output_type": "stream",
          "name": "stdout",
          "text": [
            "tensor([[0., 0., 0., 0., 1., 2., 3., 4., 2., 2., 2., 2.]])\n",
            "torch.Size([1, 12])\n"
          ]
        }
      ]
    },
    {
      "cell_type": "markdown",
      "metadata": {
        "id": "tnfRuv2-nVNj"
      },
      "source": [
        "## Flattening the Tensor.\n",
        "It creates a new Tensor that is only 1D. It is done to connect our data to next Fully Connected Layers"
      ]
    },
    {
      "cell_type": "code",
      "metadata": {
        "id": "LMBekzeVmP8H"
      },
      "source": [
        "def flatten(t):\n",
        "  t = t.reshape(1, -1)\n",
        "  t = t.squeeze()\n",
        "  return t"
      ],
      "execution_count": 25,
      "outputs": []
    },
    {
      "cell_type": "code",
      "metadata": {
        "colab": {
          "base_uri": "https://localhost:8080/"
        },
        "id": "oCtcxQNYnuHT",
        "outputId": "c9e8d8f0-bc72-4fa3-b48f-1246d1bfab1a"
      },
      "source": [
        "t.shape"
      ],
      "execution_count": 26,
      "outputs": [
        {
          "output_type": "execute_result",
          "data": {
            "text/plain": [
              "torch.Size([3, 4])"
            ]
          },
          "metadata": {},
          "execution_count": 26
        }
      ]
    },
    {
      "cell_type": "code",
      "metadata": {
        "colab": {
          "base_uri": "https://localhost:8080/"
        },
        "id": "E1rV9PQfn2HC",
        "outputId": "a6536088-cb16-451d-d8e7-456d27df6bec"
      },
      "source": [
        "flatten(t)"
      ],
      "execution_count": 27,
      "outputs": [
        {
          "output_type": "execute_result",
          "data": {
            "text/plain": [
              "tensor([0., 0., 0., 0., 1., 2., 3., 4., 2., 2., 2., 2.])"
            ]
          },
          "metadata": {},
          "execution_count": 27
        }
      ]
    },
    {
      "cell_type": "code",
      "metadata": {
        "id": "smv4Q_Zmn5C4"
      },
      "source": [
        ""
      ],
      "execution_count": null,
      "outputs": []
    }
  ]
}